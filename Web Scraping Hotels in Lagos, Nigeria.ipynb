{
 "cells": [
  {
   "cell_type": "markdown",
   "id": "90eb4130",
   "metadata": {},
   "source": [
    "# `Webscraping Hotels in Lagos`\n",
    "\n",
    "- Website link: https://hotels.ng/hotels-in-lagos/"
   ]
  },
  {
   "cell_type": "markdown",
   "id": "a198c544",
   "metadata": {},
   "source": [
    "## `Import the necessary Libraries`"
   ]
  },
  {
   "cell_type": "code",
   "execution_count": null,
   "id": "0dcc875a",
   "metadata": {},
   "outputs": [],
   "source": [
    "from bs4 import BeautifulSoup\n",
    "import requests\n",
    "import pandas as pd\n",
    "from urllib.request import urlopen\n",
    "import re"
   ]
  },
  {
   "cell_type": "code",
   "execution_count": null,
   "id": "c17cce22",
   "metadata": {},
   "outputs": [],
   "source": [
    "Hotel_Name = []\n",
    "Location = []\n",
    "Address = []\n",
    "Cost = []\n",
    "Property_type = []\n",
    "Likes = []\n",
    "Rating = []\n",
    "Review = []\n",
    "\n",
    "for i in range(1, 341):\n",
    "    url = f\"https://hotels.ng/hotels-in-lagos/{i}\"\n",
    "    response = requests.get(url)\n",
    "    soup = BeautifulSoup(response.content, \"html.parser\")\n",
    "    wrap = soup.find(\"div\", itemtype=\"http://schema.org/ItemList\")\n",
    "    container = wrap.find_all('div', class_ = \"listing-hotels\")\n",
    "    print(f\"Page {i} done\")\n",
    "    for value in container:\n",
    "        div_a = value.find(\"div\", class_ =\"col-xs-8 listing-hotels-details\")\n",
    "        name = div_a.find('div', class_ = \"listing-hotels-details-property\").find('h2').text\n",
    "        city = value.find(\"p\", class_ = \"listing-hotels-address color-dark hidden-md hidden-lg\").find(\"a\").text\n",
    "        address = value.find(\"p\", class_ = \"listing-hotels-address color-dark hidden-md hidden-lg\").text\n",
    "        div_b = value.find('div', class_ = \"col-xs-4 listing-hotels-prices\")\n",
    "        try:\n",
    "            p = div_b.find(\"p\", class_ = \"listing-hotels-prices-discount\")\n",
    "            price = p.text.split(\"\\n\")[0]\n",
    "        except:\n",
    "            price = \"NA\"\n",
    "        try:\n",
    "            div = value.find('div', class_ = \"listing-hotels-rating-box\")\n",
    "            p = div.find('p', class_ = \"listing-hotels-rating\")\n",
    "            rating = p.find('span', class_ = \"bkgrnd-v-good\").text\n",
    "            review = div.find('p', class_ = \"listing-hotels-rating-number\").text\n",
    "        except:\n",
    "            rating = \"NA\"\n",
    "            review = \"NA\"\n",
    "        property_type = value.find(\"div\", class_ = \"listing-hotels-details-property\").text\n",
    "        property_type = property_type.strip(\"\\n\")\n",
    "        div_c = value.find(\"div\", class_ = \"listing-hotels-likes\").text\n",
    "        likes = \"\".join(re.findall(r'\\d+', div_c))\n",
    "        Hotel_Name.append(name)\n",
    "        Location.append(city)\n",
    "        Address.append(address)\n",
    "        Cost.append(price)\n",
    "        Property_type.append(property_type)\n",
    "        Likes.append(likes)\n",
    "        Review.append(review)\n",
    "        Rating.append(rating)\n",
    "    \n",
    "hotel = {\n",
    "    \"Hotel_Name\":Hotel_Name,\n",
    "    \"Location\":Location,\n",
    "    \"Address\":Address,\n",
    "    \"Cost\":Cost,\n",
    "    \"Property_type\":Property_type,\n",
    "    \"Likes\":Likes,\n",
    "    \"Rating\":Rating,\n",
    "    \"Review\":Review\n",
    "    }\n",
    "df = pd.DataFrame(hotel)"
   ]
  },
  {
   "cell_type": "markdown",
   "id": "65c044e8",
   "metadata": {},
   "source": [
    "## `Converting the data to a csv file`"
   ]
  },
  {
   "cell_type": "code",
   "execution_count": null,
   "id": "c4dc7bdf",
   "metadata": {},
   "outputs": [],
   "source": [
    "df.to_csv(\"Hotels In Lagos.csv\")"
   ]
  },
  {
   "cell_type": "markdown",
   "id": "ec33071d",
   "metadata": {},
   "source": [
    "## `Importing the dataset`"
   ]
  },
  {
   "cell_type": "code",
   "execution_count": null,
   "id": "3dc11950",
   "metadata": {},
   "outputs": [],
   "source": [
    "df = pd.read_csv(\"Hotels In Lagos.csv\")\n",
    "df.head()"
   ]
  }
 ],
 "metadata": {
  "kernelspec": {
   "display_name": "Python 3 (ipykernel)",
   "language": "python",
   "name": "python3"
  },
  "language_info": {
   "codemirror_mode": {
    "name": "ipython",
    "version": 3
   },
   "file_extension": ".py",
   "mimetype": "text/x-python",
   "name": "python",
   "nbconvert_exporter": "python",
   "pygments_lexer": "ipython3",
   "version": "3.9.13"
  }
 },
 "nbformat": 4,
 "nbformat_minor": 5
}
